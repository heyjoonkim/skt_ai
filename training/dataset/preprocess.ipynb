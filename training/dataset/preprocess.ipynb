{
 "cells": [
  {
   "cell_type": "code",
   "execution_count": 8,
   "metadata": {},
   "outputs": [],
   "source": [
    "\n",
    "import json\n",
    "import os\n",
    "\n",
    "from datasets import load_dataset, DatasetDict\n",
    "\n",
    "from utils import load_json"
   ]
  },
  {
   "cell_type": "code",
   "execution_count": 4,
   "metadata": {},
   "outputs": [],
   "source": [
    "datasets = load_json('path_to_file.json')\n"
   ]
  },
  {
   "cell_type": "code",
   "execution_count": 5,
   "metadata": {},
   "outputs": [],
   "source": [
    "# num samples = 500\n",
    "# problem, solution, answer, subject, level, unique_id\n",
    "dataset = datasets['test']"
   ]
  },
  {
   "cell_type": "code",
   "execution_count": 6,
   "metadata": {},
   "outputs": [
    {
     "name": "stdout",
     "output_type": "stream",
     "text": [
      "Done loading test data, total 500 samples\n"
     ]
    }
   ],
   "source": [
    "\n",
    "test_data_list = list()\n",
    "\n",
    "for i, data in enumerate(dataset):\n",
    "    tmp_dict = dict()\n",
    "    tmp_dict['question'] = data['query']\n",
    "    tmp_dict['answer'] = data['function_call']\n",
    "    \n",
    "    for k, v in tmp_dict.items():\n",
    "        assert v is not None, f'key {k} is None'\n",
    "    \n",
    "    test_data_list.append(tmp_dict)\n",
    "        \n",
    "print(f'Done loading test data, total {len(test_data_list)} samples')"
   ]
  },
  {
   "cell_type": "code",
   "execution_count": 7,
   "metadata": {},
   "outputs": [],
   "source": [
    "import os\n",
    "output_dir = 'your/output/dir'\n",
    "\n",
    "if not os.path.exists(output_dir):\n",
    "    os.makedirs(output_dir)\n",
    "\n",
    "\n",
    "test_file = 'test.jsonl'\n",
    "full_file = 'math_500'\n",
    "\n",
    "test = os.path.join(output_dir, test_file)\n",
    "full = os.path.join(output_dir, full_file)"
   ]
  },
  {
   "cell_type": "code",
   "execution_count": 9,
   "metadata": {},
   "outputs": [],
   "source": [
    "    \n",
    "with open(test, 'w') as f:\n",
    "    json.dump(test_data_list, f)"
   ]
  },
  {
   "cell_type": "code",
   "execution_count": 10,
   "metadata": {},
   "outputs": [
    {
     "data": {
      "application/vnd.jupyter.widget-view+json": {
       "model_id": "6a196940917b4fd5803b8027fb9fc4ee",
       "version_major": 2,
       "version_minor": 0
      },
      "text/plain": [
       "Generating test split: 0 examples [00:00, ? examples/s]"
      ]
     },
     "metadata": {},
     "output_type": "display_data"
    },
    {
     "data": {
      "application/vnd.jupyter.widget-view+json": {
       "model_id": "512cc2378c424fe88ceba2ea3e99643d",
       "version_major": 2,
       "version_minor": 0
      },
      "text/plain": [
       "Saving the dataset (0/1 shards):   0%|          | 0/500 [00:00<?, ? examples/s]"
      ]
     },
     "metadata": {},
     "output_type": "display_data"
    }
   ],
   "source": [
    "full_data_dict = dict(\n",
    "    # train = train,\n",
    "    test = test\n",
    ")\n",
    "\n",
    "ds = DatasetDict.from_json(full_data_dict)\n",
    "ds.save_to_disk(full)"
   ]
  },
  {
   "cell_type": "code",
   "execution_count": 11,
   "metadata": {},
   "outputs": [
    {
     "name": "stdout",
     "output_type": "stream",
     "text": [
      "DatasetDict({\n",
      "    test: Dataset({\n",
      "        features: ['answer', 'subject', 'level', 'solution', 'question'],\n",
      "        num_rows: 500\n",
      "    })\n",
      "})\n"
     ]
    },
    {
     "data": {
      "application/vnd.jupyter.widget-view+json": {
       "model_id": "b66ca66b37984429a42db545c5ef8649",
       "version_major": 2,
       "version_minor": 0
      },
      "text/plain": [
       "Uploading the dataset shards:   0%|          | 0/1 [00:00<?, ?it/s]"
      ]
     },
     "metadata": {},
     "output_type": "display_data"
    },
    {
     "data": {
      "application/vnd.jupyter.widget-view+json": {
       "model_id": "f92ecca5a9744a2dbdbddf9c569a5ae1",
       "version_major": 2,
       "version_minor": 0
      },
      "text/plain": [
       "Creating parquet from Arrow format:   0%|          | 0/1 [00:00<?, ?ba/s]"
      ]
     },
     "metadata": {},
     "output_type": "display_data"
    },
    {
     "data": {
      "text/plain": [
       "CommitInfo(commit_url='https://huggingface.co/datasets/heyjoonkim/math_500/commit/a86397bc10690ce947a7591d2b751fb3198bc8d7', commit_message='Upload dataset', commit_description='', oid='a86397bc10690ce947a7591d2b751fb3198bc8d7', pr_url=None, pr_revision=None, pr_num=None)"
      ]
     },
     "execution_count": 11,
     "metadata": {},
     "output_type": "execute_result"
    }
   ],
   "source": [
    "\n",
    "tmp_data = DatasetDict.load_from_disk(full)\n",
    "print(tmp_data)\n",
    "\n",
    "tmp_data.push_to_hub(\"heyjoonkim/math_500\", private=True)"
   ]
  },
  {
   "cell_type": "code",
   "execution_count": null,
   "metadata": {},
   "outputs": [],
   "source": []
  }
 ],
 "metadata": {
  "kernelspec": {
   "display_name": "main",
   "language": "python",
   "name": "python3"
  },
  "language_info": {
   "codemirror_mode": {
    "name": "ipython",
    "version": 3
   },
   "file_extension": ".py",
   "mimetype": "text/x-python",
   "name": "python",
   "nbconvert_exporter": "python",
   "pygments_lexer": "ipython3",
   "version": "3.1.0"
  }
 },
 "nbformat": 4,
 "nbformat_minor": 2
}
